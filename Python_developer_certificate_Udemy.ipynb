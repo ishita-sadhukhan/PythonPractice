{
  "nbformat": 4,
  "nbformat_minor": 0,
  "metadata": {
    "colab": {
      "provenance": [],
      "include_colab_link": true
    },
    "kernelspec": {
      "name": "python3",
      "display_name": "Python 3"
    },
    "language_info": {
      "name": "python"
    }
  },
  "cells": [
    {
      "cell_type": "markdown",
      "metadata": {
        "id": "view-in-github",
        "colab_type": "text"
      },
      "source": [
        "<a href=\"https://colab.research.google.com/github/ishita-sadhukhan/PythonPractice/blob/main/Python_developer_certificate_Udemy.ipynb\" target=\"_parent\"><img src=\"https://colab.research.google.com/assets/colab-badge.svg\" alt=\"Open In Colab\"/></a>"
      ]
    },
    {
      "cell_type": "markdown",
      "source": [
        "# 2.  Basics of Variable"
      ],
      "metadata": {
        "id": "duMsyVzlCNfL"
      }
    },
    {
      "cell_type": "code",
      "execution_count": null,
      "metadata": {
        "id": "woZEjDPHB2xq",
        "colab": {
          "base_uri": "https://localhost:8080/"
        },
        "outputId": "8dada560-6875-4f34-f83c-ad63b3b5700e"
      },
      "outputs": [
        {
          "output_type": "stream",
          "name": "stdout",
          "text": [
            "Hello World\n"
          ]
        }
      ],
      "source": [
        "print('Hello World')\n",
        "#print is the method\n",
        "#we can use single or double quote\n",
        "# the execution of the program happened line by line"
      ]
    },
    {
      "cell_type": "code",
      "source": [
        "#Variable - it is a container\n",
        "number =77 \n",
        "number"
      ],
      "metadata": {
        "colab": {
          "base_uri": "https://localhost:8080/"
        },
        "id": "ueRh2Ks5K3R8",
        "outputId": "ac10011e-f366-41f7-cdd2-ec56beb326dc"
      },
      "execution_count": null,
      "outputs": [
        {
          "output_type": "execute_result",
          "data": {
            "text/plain": [
              "77"
            ]
          },
          "metadata": {},
          "execution_count": 4
        }
      ]
    },
    {
      "cell_type": "code",
      "source": [
        "#changing this number to 80, then value inside the 'number' will change"
      ],
      "metadata": {
        "id": "Pmyqs_mAB-yx"
      },
      "execution_count": null,
      "outputs": []
    },
    {
      "cell_type": "code",
      "source": [
        "weight = 92"
      ],
      "metadata": {
        "id": "GXY9qWZqB-9m"
      },
      "execution_count": 1,
      "outputs": []
    },
    {
      "cell_type": "code",
      "source": [
        "print(weight)"
      ],
      "metadata": {
        "id": "RDzRMOjqB_Gq",
        "colab": {
          "base_uri": "https://localhost:8080/"
        },
        "outputId": "77983099-e499-4543-9e4f-e6b1099ca5a2"
      },
      "execution_count": 2,
      "outputs": [
        {
          "output_type": "stream",
          "name": "stdout",
          "text": [
            "92\n"
          ]
        }
      ]
    },
    {
      "cell_type": "code",
      "source": [],
      "metadata": {
        "id": "FJReVEu4B_Jg"
      },
      "execution_count": null,
      "outputs": []
    },
    {
      "cell_type": "code",
      "source": [],
      "metadata": {
        "id": "qrNRvOvtB_ND"
      },
      "execution_count": null,
      "outputs": []
    },
    {
      "cell_type": "code",
      "source": [],
      "metadata": {
        "id": "MtheIPmHB_RK"
      },
      "execution_count": null,
      "outputs": []
    }
  ]
}