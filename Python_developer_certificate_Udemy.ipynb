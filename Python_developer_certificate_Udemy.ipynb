{
  "nbformat": 4,
  "nbformat_minor": 0,
  "metadata": {
    "colab": {
      "provenance": [],
      "mount_file_id": "1mvqrlb49NzpIHLnzL8eCFq5apxA0Zts1",
      "authorship_tag": "ABX9TyPH3KyRUSlUc4KseHeMZB56",
      "include_colab_link": true
    },
    "kernelspec": {
      "name": "python3",
      "display_name": "Python 3"
    },
    "language_info": {
      "name": "python"
    }
  },
  "cells": [
    {
      "cell_type": "markdown",
      "metadata": {
        "id": "view-in-github",
        "colab_type": "text"
      },
      "source": [
        "<a href=\"https://colab.research.google.com/github/ishita-sadhukhan/PythonPractice/blob/main/Python_developer_certificate_Udemy.ipynb\" target=\"_parent\"><img src=\"https://colab.research.google.com/assets/colab-badge.svg\" alt=\"Open In Colab\"/></a>"
      ]
    },
    {
      "cell_type": "markdown",
      "source": [
        "# 2.  Basics of Variable"
      ],
      "metadata": {
        "id": "duMsyVzlCNfL"
      }
    },
    {
      "cell_type": "code",
      "execution_count": null,
      "metadata": {
        "id": "woZEjDPHB2xq",
        "colab": {
          "base_uri": "https://localhost:8080/"
        },
        "outputId": "8dada560-6875-4f34-f83c-ad63b3b5700e"
      },
      "outputs": [
        {
          "output_type": "stream",
          "name": "stdout",
          "text": [
            "Hello World\n"
          ]
        }
      ],
      "source": [
        "print('Hello World')\n",
        "#print is the method\n",
        "#we can use single or double quote\n",
        "# the execution of the program happened line by line"
      ]
    },
    {
      "cell_type": "code",
      "source": [
        "#Variable - it is a container\n",
        "number =77 \n",
        "number"
      ],
      "metadata": {
        "colab": {
          "base_uri": "https://localhost:8080/"
        },
        "id": "ueRh2Ks5K3R8",
        "outputId": "ac10011e-f366-41f7-cdd2-ec56beb326dc"
      },
      "execution_count": null,
      "outputs": [
        {
          "output_type": "execute_result",
          "data": {
            "text/plain": [
              "77"
            ]
          },
          "metadata": {},
          "execution_count": 4
        }
      ]
    },
    {
      "cell_type": "code",
      "source": [
        "first_name='imtiaz' #string\n",
        "last_name =\"ahmad\"\n",
        "name= first_name + last_name\n",
        "name"
      ],
      "metadata": {
        "id": "Pmyqs_mAB-yx",
        "colab": {
          "base_uri": "https://localhost:8080/",
          "height": 36
        },
        "outputId": "bf22322f-7aa9-4c4a-89a5-fd90d16852e1"
      },
      "execution_count": 4,
      "outputs": [
        {
          "output_type": "execute_result",
          "data": {
            "text/plain": [
              "'imtiazahmad'"
            ],
            "application/vnd.google.colaboratory.intrinsic+json": {
              "type": "string"
            }
          },
          "metadata": {},
          "execution_count": 4
        }
      ]
    },
    {
      "cell_type": "code",
      "source": [
        "print(first_name,last_name) # print automatically inserts a space here"
      ],
      "metadata": {
        "id": "GXY9qWZqB-9m",
        "colab": {
          "base_uri": "https://localhost:8080/"
        },
        "outputId": "68ec58ea-c35b-4a2e-82c7-59005b3a4f6c"
      },
      "execution_count": 5,
      "outputs": [
        {
          "output_type": "stream",
          "name": "stdout",
          "text": [
            "imtiaz ahmad\n"
          ]
        }
      ]
    },
    {
      "cell_type": "code",
      "source": [
        "print(name) "
      ],
      "metadata": {
        "id": "RDzRMOjqB_Gq",
        "colab": {
          "base_uri": "https://localhost:8080/"
        },
        "outputId": "11d9bf35-8aaa-4301-ee66-2d6714119ca6"
      },
      "execution_count": 6,
      "outputs": [
        {
          "output_type": "stream",
          "name": "stdout",
          "text": [
            "imtiazahmad\n"
          ]
        }
      ]
    },
    {
      "cell_type": "code",
      "source": [
        "# write - imtiaz ahmed weigh 200 pounds and 200 will be stored in a variable\n",
        "weight= 200\n",
        "sentence= first_name + last_name + \" weighs \" + str(weight) + \" lbs\"\n",
        "print(sentence)"
      ],
      "metadata": {
        "id": "FJReVEu4B_Jg",
        "colab": {
          "base_uri": "https://localhost:8080/"
        },
        "outputId": "209817b2-f85a-4112-e104-ef532c35e7c0"
      },
      "execution_count": 8,
      "outputs": [
        {
          "output_type": "stream",
          "name": "stdout",
          "text": [
            "imtiazahmad weighs 200 lbs\n"
          ]
        }
      ]
    },
    {
      "cell_type": "code",
      "source": [],
      "metadata": {
        "id": "qrNRvOvtB_ND"
      },
      "execution_count": null,
      "outputs": []
    },
    {
      "cell_type": "code",
      "source": [],
      "metadata": {
        "id": "MtheIPmHB_RK"
      },
      "execution_count": null,
      "outputs": []
    }
  ]
}